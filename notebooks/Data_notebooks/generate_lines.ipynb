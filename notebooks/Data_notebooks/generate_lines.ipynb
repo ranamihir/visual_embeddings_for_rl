{
 "cells": [
  {
   "cell_type": "code",
   "execution_count": 18,
   "metadata": {
    "nbpresent": {
     "id": "39a32fe1-88d7-4984-9844-2351fb0ad142"
    }
   },
   "outputs": [],
   "source": [
    "import numpy as np\n",
    "import pandas as pd\n",
    "import torch\n",
    "from torchvision.utils import make_grid\n",
    "import matplotlib.pyplot as plt\n",
    "%matplotlib inline"
   ]
  },
  {
   "cell_type": "code",
   "execution_count": 20,
   "metadata": {
    "nbpresent": {
     "id": "12611b75-ed60-4baa-94bd-f55d3beb1454"
    }
   },
   "outputs": [],
   "source": [
    "one_image = np.zeros(shape=(75,75))\n",
    "\n",
    "v = [1,3]\n",
    "\n",
    "seq_length = 20"
   ]
  },
  {
   "cell_type": "code",
   "execution_count": 21,
   "metadata": {
    "nbpresent": {
     "id": "3d5cb98e-d90b-4a94-8463-f2cf194bb21d"
    }
   },
   "outputs": [],
   "source": [
    "data = np.array([])\n",
    "for c in range(len(v)):\n",
    "    for s_idx in range(one_image.shape[0]):\n",
    "        temp_seq = np.array([])\n",
    "        i = s_idx\n",
    "        for seq_num in range(seq_length):\n",
    "            temp = np.copy(one_image)\n",
    "            temp[:,i] = np.ones(temp.shape[0])\n",
    "            #print(\"temp shape: {}\".format(temp.shape))\n",
    "            temp_seq = np.append(temp_seq,temp)\n",
    "            i = (i+v[c])%one_image.shape[0]\n",
    "            #print(temp_seq.shape)\n",
    "        #temp_seq = temp_seq[1:]\n",
    "        temp_seq = np.reshape(temp_seq,(1,-1,75,75))\n",
    "        data = temp_seq if not data.size else np.vstack((data,temp_seq))"
   ]
  },
  {
   "cell_type": "code",
   "execution_count": 22,
   "metadata": {
    "nbpresent": {
     "id": "5b5d990e-2202-4b39-a523-62a3a933e95d"
    }
   },
   "outputs": [],
   "source": [
    "data = np.reshape(data, (20,-1,75,75))"
   ]
  },
  {
   "cell_type": "code",
   "execution_count": 23,
   "metadata": {},
   "outputs": [
    {
     "data": {
      "text/plain": [
       "(20, 150, 75, 75)"
      ]
     },
     "execution_count": 23,
     "metadata": {},
     "output_type": "execute_result"
    }
   ],
   "source": [
    "data.shape"
   ]
  },
  {
   "cell_type": "code",
   "execution_count": 24,
   "metadata": {},
   "outputs": [],
   "source": [
    "np.save(open('../../data/moving_bars_small_dim_75.npy','wb'),data)"
   ]
  },
  {
   "cell_type": "code",
   "execution_count": 30,
   "metadata": {
    "nbpresent": {
     "id": "3ed5a640-3b89-49a2-a074-ef9a27778084"
    }
   },
   "outputs": [],
   "source": [
    "images = torch.from_numpy(data[128])"
   ]
  },
  {
   "cell_type": "code",
   "execution_count": 32,
   "metadata": {
    "nbpresent": {
     "id": "7a923d81-603c-4775-a80c-9d41131e5a75"
    }
   },
   "outputs": [],
   "source": [
    "image_dim = 64"
   ]
  },
  {
   "cell_type": "code",
   "execution_count": 33,
   "metadata": {
    "nbpresent": {
     "id": "92ed1360-3394-4fa9-af94-9dc40b4c9a34"
    }
   },
   "outputs": [],
   "source": [
    "images = make_grid(images.reshape(-1, 1, image_dim, image_dim), nrow=4, padding=5, pad_value=1)"
   ]
  },
  {
   "cell_type": "code",
   "execution_count": 34,
   "metadata": {
    "nbpresent": {
     "id": "5da59a1d-3eea-4771-aafa-3f5312dc5f16"
    }
   },
   "outputs": [
    {
     "data": {
      "image/png": "[encoded data removed]",
      "text/plain": [
       "<Figure size 2160x720 with 1 Axes>"
      ]
     },
     "metadata": {
      "needs_background": "light"
     },
     "output_type": "display_data"
    }
   ],
   "source": [
    "np_image = images.numpy()\n",
    "fig = plt.figure(figsize=(30, 10))\n",
    "plt.imshow(np.transpose(np_image, axes=(1, 2, 0)))\n",
    "plt.tight_layout()"
   ]
  },
  {
   "cell_type": "code",
   "execution_count": null,
   "metadata": {
    "nbpresent": {
     "id": "afda9f55-5c3c-4ed3-b338-1a2cecefde3e"
    }
   },
   "outputs": [],
   "source": []
  }
 ],
 "metadata": {
  "kernelspec": {
   "display_name": "Python [conda env:capstone_project]",
   "language": "python",
   "name": "conda-env-capstone_project-py"
  },
  "language_info": {
   "codemirror_mode": {
    "name": "ipython",
    "version": 3
   },
   "file_extension": ".py",
   "mimetype": "text/x-python",
   "name": "python",
   "nbconvert_exporter": "python",
   "pygments_lexer": "ipython3",
   "version": "3.6.5"
  }
 },
 "nbformat": 4,
 "nbformat_minor": 2
}
