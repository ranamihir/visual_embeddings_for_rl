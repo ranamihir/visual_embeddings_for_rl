{
 "cells": [
  {
   "cell_type": "code",
   "execution_count": 1,
   "metadata": {},
   "outputs": [],
   "source": [
    "import numpy as np\n",
    "import pandas as pd\n",
    "import os\n",
    "import argparse\n",
    "import logging\n",
    "\n",
    "import torch\n",
    "import torch.nn as nn\n",
    "import torch.optim as optim\n",
    "from torchvision import datasets, transforms\n",
    "from torch.autograd import Variable\n",
    "from torch.utils.data.dataset import Dataset\n",
    "from torch.utils.data import DataLoader\n",
    "\n",
    "from capstone_project.preprocessing import generate_dataloaders, load_data, split_data\n",
    "from capstone_project.models.embedding_network import EmbeddingNetwork\n",
    "from capstone_project.models.classification_network import ClassificationNetwork\n",
    "from capstone_project.utils import *\n",
    "\n",
    "import matplotlib.patheffects as PathEffects\n",
    "import matplotlib.pyplot as plt\n",
    "%matplotlib inline"
   ]
  },
  {
   "cell_type": "code",
   "execution_count": 2,
   "metadata": {},
   "outputs": [],
   "source": [
    "PROJECT_DIR = '/home/kyt237/learning_visual_embeddings/'\n",
    "DATA_DIR,  PLOTS_DIR, LOGGING_DIR = 'data', 'plots', 'logs'\n",
    "CHECKPOINTS_DIR = 'checkpoints'\n",
    "DATASET = 'mnist_test_seq.npy'\n",
    "TEST_SIZE, VAL_SIZE = 0.2, 0.2\n",
    "\n",
    "BATCH_SIZE = 64    # input batch size for training\n",
    "N_EPOCHS = 200     # number of epochs to train\n",
    "LR = 1e-4          # learning rate\n",
    "DEVICE = 'cuda' if torch.cuda.is_available() else 'cpu'\n",
    "\n",
    "NUM_PASSES_FOR_GENERATION = 1   # number of passes through data for pair generation\n",
    "NUM_FRAMES_IN_STACK = 2         # number of (total) frames to concatenate for each video\n",
    "NUM_PAIRS_PER_EXAMPLE = 5        # number of pairs to generate for given video and time difference\n",
    "TIME_BUCKETS = [[0], [1], [2], [3,4], range(5,11,1)]\n",
    "\n",
    "RS = 20150101 # Random state"
   ]
  },
  {
   "cell_type": "code",
   "execution_count": 3,
   "metadata": {},
   "outputs": [],
   "source": [
    "import torch\n",
    "import torch.nn as nn\n",
    "\n",
    "\n",
    "def conv3x3(in_channels, out_channels, stride=1, padding=1, bias=False):\n",
    "    return nn.Conv2d(in_channels, out_channels, kernel_size=3,\n",
    "                     stride=stride, padding=padding, bias=bias)\n",
    "\n",
    "\n",
    "# Residual block\n",
    "class ResidualBlock(nn.Module):\n",
    "    def __init__(self, in_channels, out_channels, stride=1, downsample=None):\n",
    "        super(ResidualBlock, self).__init__()\n",
    "        self.conv1 = conv3x3(in_channels, out_channels, stride)\n",
    "        self.bn1 = nn.BatchNorm2d(out_channels)\n",
    "        self.conv2 = conv3x3(out_channels, out_channels)\n",
    "        self.bn2 = nn.BatchNorm2d(out_channels)\n",
    "        self.relu = nn.ReLU(inplace=True)\n",
    "        self.downsample = downsample\n",
    "\n",
    "    def forward(self, input):\n",
    "        residual = input\n",
    "        output = self.conv1(input)\n",
    "        output = self.bn1(output)\n",
    "        output = self.relu(output)\n",
    "        output = self.conv2(output)\n",
    "        output = self.bn2(output)\n",
    "        if self.downsample:\n",
    "            residual = self.downsample(input)\n",
    "        output += residual\n",
    "        output = self.relu(output)\n",
    "        return output\n",
    "\n",
    "\n",
    "class EmbeddingNetwork(nn.Module):\n",
    "    def __init__(self, in_dim, in_channels, hidden_size, out_dim, block=ResidualBlock, num_blocks=3):\n",
    "        super(EmbeddingNetwork, self).__init__()\n",
    "        self.in_dim = in_dim\n",
    "        self.in_channels = in_channels\n",
    "\n",
    "        # Conv-ReLU layers with batch-norm and downsampling\n",
    "#         self.conv1 = conv3x3(in_channels, 32)\n",
    "        self.conv1 = conv3x3(in_channels, 32, stride=2)  # NOTE: Use pool in _get_fc_input_size if using this\n",
    "        self.bn1 = nn.BatchNorm2d(32)\n",
    "#         self.conv2 = conv3x3(32, 64)\n",
    "        self.conv2 = conv3x3(32, 64, stride=2)  # NOTE: Use pool in _get_fc_input_size if using this\n",
    "        self.bn2 = nn.BatchNorm2d(64)\n",
    "#         self.conv3 = conv3x3(64, 64)\n",
    "        self.conv3 = conv3x3(64, 64, stride=2)  # NOTE: Use pool in _get_fc_input_size if using this\n",
    "        self.bn3 = nn.BatchNorm2d(64)\n",
    "        self.pool = nn.MaxPool2d(2)\n",
    "        self.relu = nn.ReLU(inplace=True)\n",
    "\n",
    "        # Residual layers\n",
    "        self.residual_layers = self._make_layer(block, 64, 64, num_blocks)\n",
    "\n",
    "        # Automatically get dimension of FC layer by using dummy input\n",
    "        fc1_input_size = self._get_fc_input_size()\n",
    "        #print(fc1_input_size)\n",
    "\n",
    "        # Fully connected layers\n",
    "        self.fc1 = nn.Linear(fc1_input_size, hidden_size)\n",
    "        self.fc2 = nn.Linear(hidden_size, out_dim)\n",
    "\n",
    "        # Initialize weights\n",
    "        self._init_weights()\n",
    "\n",
    "    def forward(self, input):\n",
    "        # Reshape input to batch_size x in_channels x height x width\n",
    "        input = input.view(-1, self.in_channels, self.in_dim, self.in_dim)\n",
    "\n",
    "        output = self.conv1(input)\n",
    "        output = self.bn1(output)\n",
    "        output = self.relu(output)\n",
    "\n",
    "        output = self.conv2(output)\n",
    "        output = self.bn2(output)\n",
    "        output = self.relu(output)\n",
    "#         output = self.pool(output) # NOTE: Use pool in _get_fc_input_size if using it here\n",
    "\n",
    "        output = self.conv3(output)\n",
    "        output = self.bn3(output)\n",
    "        output = self.relu(output)\n",
    "#         output = self.pool(output) # NOTE: Use pool in _get_fc_input_size if using it here\n",
    "\n",
    "        # output = self.residual_layers(output)\n",
    "\n",
    "        output = output.view(output.size(0), -1)\n",
    "        output = self.fc1(output)\n",
    "        output = self.fc2(output)\n",
    "        output_n = torch.norm(output, p=2, dim=1, keepdim=True)\n",
    "        output = output.div(output_n.expand_as(output))\n",
    "        return output\n",
    "\n",
    "    def _make_layer(self, block, in_channels, out_channels, num_blocks, stride=1, downsample=None):\n",
    "        if (not downsample) and ((stride != 1) or (in_channels != out_channels)):\n",
    "            downsample = nn.Sequential(conv3x3(in_channels, out_channels, stride=stride), nn.BatchNorm2d(out_channels))\n",
    "\n",
    "        layers = [block(in_channels, out_channels, stride, downsample)]\n",
    "        for i in range(num_blocks-1):\n",
    "            # For residual blocks, in_channels = out_channels\n",
    "            layers.append(block(out_channels, out_channels))\n",
    "\n",
    "        return nn.Sequential(*layers)\n",
    "\n",
    "    def _init_weights(self):\n",
    "        for m in self.modules():\n",
    "            if isinstance(m, nn.Conv2d):\n",
    "                nn.init.xavier_normal_(m.weight)\n",
    "            elif isinstance(m, nn.BatchNorm2d):\n",
    "                nn.init.constant_(m.weight, 1)\n",
    "                nn.init.constant_(m.bias, 0)\n",
    "            elif isinstance(m, nn.Linear):\n",
    "                nn.init.xavier_normal_(m.weight)\n",
    "                nn.init.uniform_(m.bias)\n",
    "\n",
    "    def _get_fc_input_size(self):\n",
    "        layers = nn.Sequential(self.conv1,\n",
    "                            self.bn1,\n",
    "                            self.relu,\n",
    "                            self.conv2,\n",
    "                            self.bn2,\n",
    "                            self.relu,\n",
    "#                             self.pool,\n",
    "                            self.conv3,\n",
    "                            self.bn3,\n",
    "                            self.relu,\n",
    "#                             self.pool,\n",
    "                            self.residual_layers\n",
    "                )\n",
    "\n",
    "        with torch.no_grad():\n",
    "            dummy_input = torch.zeros([1, self.in_channels, self.in_dim, self.in_dim]).float()\n",
    "            dummy_output = layers(dummy_input)\n",
    "            fc_size = dummy_output.flatten(0).shape[0]\n",
    "\n",
    "        return fc_size"
   ]
  },
  {
   "cell_type": "code",
   "execution_count": 18,
   "metadata": {},
   "outputs": [],
   "source": [
    "DATASET = 'moving_bars_20_121.npy'\n",
    "data = load_data(PROJECT_DIR, DATA_DIR, DATASET)\n",
    "train_data = split_data(data, VAL_SIZE, TEST_SIZE, PROJECT_DIR, DATA_DIR)['train']\n",
    "val_data = split_data(data, VAL_SIZE, TEST_SIZE, PROJECT_DIR, DATA_DIR)['val']"
   ]
  },
  {
   "cell_type": "code",
   "execution_count": 19,
   "metadata": {},
   "outputs": [
    {
     "data": {
      "text/plain": [
       "(146, 20, 121, 121)"
      ]
     },
     "execution_count": 19,
     "metadata": {},
     "output_type": "execute_result"
    }
   ],
   "source": [
    "train_data.shape"
   ]
  },
  {
   "cell_type": "code",
   "execution_count": 20,
   "metadata": {},
   "outputs": [],
   "source": [
    "img_dim = data.shape[-1]\n",
    "in_dim = img_dim\n",
    "in_dim, in_channels, out_dim = img_dim, NUM_FRAMES_IN_STACK, 1024\n",
    "embedding_hidden_size, classification_hidden_size = 1024, 1024\n",
    "num_outputs = len(TIME_BUCKETS)"
   ]
  },
  {
   "cell_type": "code",
   "execution_count": 21,
   "metadata": {},
   "outputs": [],
   "source": [
    "class EmbeddingDataset(Dataset):\n",
    "    def __init__(self, X, num_frames_in_stack, transforms=None):\n",
    "        self.X = X\n",
    "        self.transforms = transforms\n",
    "        self.num_frames_in_stack = num_frames_in_stack\n",
    "        self.seq_len = X.shape[1]\n",
    "\n",
    "    def __getitem__(self, index):\n",
    "        video = self.X[index]\n",
    "        stacked_frames = []\n",
    "        \n",
    "        for frame in range(self.num_frames_in_stack-1, self.seq_len):\n",
    "            frame_numbers = np.array(range(frame-self.num_frames_in_stack+1, frame+1))\n",
    "            frames = video[frame_numbers]\n",
    "            if self.transforms:\n",
    "                frames = self.transforms(frames)\n",
    "            stacked_frames.append(frames)\n",
    "            \n",
    "        return torch.from_numpy(np.array(stacked_frames)) # torch.from_numpy uses same memory\n",
    "\n",
    "    def __len__(self):\n",
    "        return len(self.X)"
   ]
  },
  {
   "cell_type": "code",
   "execution_count": 22,
   "metadata": {},
   "outputs": [],
   "source": [
    "def get_embeddings(embedding_network, dataloader, device):\n",
    "    all_embeddings = np.array([])\n",
    "    all_videos = np.array([])\n",
    "    embedding_network.eval()\n",
    "    with torch.no_grad():\n",
    "        for batch_idx, all_stacked_frames in enumerate(dataloader):\n",
    "            # Reshape (64,19,2,121,121) -> (19,64,2,121,121)\n",
    "            all_stacked_frames = all_stacked_frames.numpy().swapaxes(0, 1)\n",
    "            all_stacked_frames = torch.from_numpy(all_stacked_frames).to(DEVICE).float()\n",
    "            embeddings = []\n",
    "            videos = np.array([])\n",
    "            for stacked_frames in all_stacked_frames:\n",
    "                embedding_output = embedding_network(stacked_frames).detach().cpu().numpy()\n",
    "                embeddings.append(embedding_output)\n",
    "                \n",
    "                frames = stacked_frames.detach().cpu().numpy().swapaxes(0, 1) # (2,64,121,121)\n",
    "                last_frame = np.array([frames[-1]])\n",
    "                videos = np.vstack((videos, last_frame)) if videos.size else last_frame\n",
    "            embeddings = np.array(embeddings).swapaxes(0, 1)\n",
    "            all_embeddings = np.vstack((all_embeddings, embeddings)) if all_embeddings.size else embeddings\n",
    "            \n",
    "            videos = videos.swapaxes(0, 1)\n",
    "            all_videos = np.vstack((all_videos, videos)) if all_videos.size else np.array(videos)\n",
    "    return all_embeddings, all_videos"
   ]
  },
  {
   "cell_type": "code",
   "execution_count": 23,
   "metadata": {},
   "outputs": [],
   "source": [
    "embedding_network = EmbeddingNetwork(in_dim, in_channels, embedding_hidden_size, out_dim).to(DEVICE)\n",
    "classification_network = ClassificationNetwork(out_dim, classification_hidden_size, num_outputs).to(DEVICE)"
   ]
  },
  {
   "cell_type": "code",
   "execution_count": 24,
   "metadata": {},
   "outputs": [],
   "source": [
    "criterion_train = nn.CrossEntropyLoss()\n",
    "criterion_test = nn.CrossEntropyLoss(reduction='sum')\n",
    "optimizer = optim.Adam(list(embedding_network.parameters()) + list(classification_network.parameters()), lr=LR)"
   ]
  },
  {
   "cell_type": "code",
   "execution_count": 25,
   "metadata": {},
   "outputs": [],
   "source": [
    "embedding_network, classification_network, optimizer, train_loss_history, val_loss_history, train_accuracy_history, val_accuracy_history, epoch_trained = \\\n",
    "    load_checkpoint(embedding_network, classification_network, optimizer, 'state_dict_moving_bars_20_121_2_5_100.pkl', PROJECT_DIR, CHECKPOINTS_DIR, DEVICE)"
   ]
  },
  {
   "cell_type": "code",
   "execution_count": 26,
   "metadata": {},
   "outputs": [],
   "source": [
    "train_embedding_dataset = EmbeddingDataset(train_data, NUM_FRAMES_IN_STACK)\n",
    "val_embedding_dataset = EmbeddingDataset(val_data, NUM_FRAMES_IN_STACK)"
   ]
  },
  {
   "cell_type": "code",
   "execution_count": 27,
   "metadata": {},
   "outputs": [],
   "source": [
    "train_dataloader = DataLoader(train_embedding_dataset, batch_size=64, shuffle=False, num_workers=4)\n",
    "val_dataloader = DataLoader(val_embedding_dataset, batch_size=64, shuffle=False, num_workers=4)"
   ]
  },
  {
   "cell_type": "code",
   "execution_count": 28,
   "metadata": {},
   "outputs": [],
   "source": [
    "train_embeddings_bars, train_videos_bars = get_embeddings(embedding_network, train_dataloader, DEVICE)\n",
    "val_embeddings_bars, val_videos_bars = get_embeddings(embedding_network, val_dataloader, DEVICE)"
   ]
  },
  {
   "cell_type": "code",
   "execution_count": 29,
   "metadata": {},
   "outputs": [
    {
     "data": {
      "text/plain": [
       "(146, 19, 1024)"
      ]
     },
     "execution_count": 29,
     "metadata": {},
     "output_type": "execute_result"
    }
   ],
   "source": [
    "train_embeddings_bars.shape"
   ]
  },
  {
   "cell_type": "code",
   "execution_count": 30,
   "metadata": {},
   "outputs": [
    {
     "data": {
      "text/plain": [
       "(48, 19, 121, 121)"
      ]
     },
     "execution_count": 30,
     "metadata": {},
     "output_type": "execute_result"
    }
   ],
   "source": [
    "val_videos_bars.shape"
   ]
  },
  {
   "cell_type": "code",
   "execution_count": 31,
   "metadata": {},
   "outputs": [],
   "source": [
    "train_embeddings_bars_seq = train_embeddings_bars.copy()\n",
    "val_embeddings_bars_seq = val_embeddings_bars.copy()\n",
    "train_videos_bars_seq = train_videos_bars.copy()\n",
    "val_videos_bars_seq = val_videos_bars.copy()"
   ]
  },
  {
   "cell_type": "code",
   "execution_count": 32,
   "metadata": {},
   "outputs": [],
   "source": [
    "train_embeddings_bars = train_embeddings_bars.reshape((-1,1024))\n",
    "val_embeddings_bars = val_embeddings_bars.reshape((-1,1024))"
   ]
  },
  {
   "cell_type": "code",
   "execution_count": 33,
   "metadata": {},
   "outputs": [
    {
     "data": {
      "text/plain": [
       "(912, 1024)"
      ]
     },
     "execution_count": 33,
     "metadata": {},
     "output_type": "execute_result"
    }
   ],
   "source": [
    "val_embeddings_bars.shape"
   ]
  },
  {
   "cell_type": "code",
   "execution_count": 34,
   "metadata": {},
   "outputs": [],
   "source": [
    "train_videos_bars = train_videos_bars.reshape((-1,121,121))\n",
    "val_videos_bars = val_videos_bars.reshape((-1,121,121))"
   ]
  },
  {
   "cell_type": "code",
   "execution_count": 35,
   "metadata": {},
   "outputs": [
    {
     "data": {
      "text/plain": [
       "(912, 121, 121)"
      ]
     },
     "execution_count": 35,
     "metadata": {},
     "output_type": "execute_result"
    }
   ],
   "source": [
    "val_videos_bars.shape"
   ]
  },
  {
   "cell_type": "code",
   "execution_count": 36,
   "metadata": {},
   "outputs": [
    {
     "data": {
      "text/plain": [
       "(48, 19, 121, 121)"
      ]
     },
     "execution_count": 36,
     "metadata": {},
     "output_type": "execute_result"
    }
   ],
   "source": [
    "val_videos_bars_seq.shape"
   ]
  },
  {
   "cell_type": "code",
   "execution_count": 37,
   "metadata": {},
   "outputs": [],
   "source": [
    "class DecoderDataset(Dataset):\n",
    "    def __init__(self, X_embed, target_img, transforms=None):\n",
    "        self.X_embed = X_embed\n",
    "        self.target_img = target_img\n",
    "\n",
    "    def __getitem__(self, index):\n",
    "        return torch.from_numpy(self.X_embed[index]), torch.from_numpy(self.target_img[index])\n",
    "\n",
    "    def __len__(self):\n",
    "        return len(self.X_embed)"
   ]
  },
  {
   "cell_type": "code",
   "execution_count": 38,
   "metadata": {},
   "outputs": [],
   "source": [
    "class DecoderNetwork(nn.Module):\n",
    "    def __init__(self, emb_size,hidden_size):\n",
    "        super(DecoderNetwork, self).__init__()\n",
    "        self.emb_size,self.hidden_size = emb_size,hidden_size\n",
    "        # Deconv layers\n",
    "        self.deconv1 = nn.ConvTranspose2d(in_channels=64,out_channels=64,stride=2,padding=1,kernel_size=3,bias=False)\n",
    "        self.bn1 = nn.BatchNorm2d(64)\n",
    "        self.deconv2 = nn.ConvTranspose2d(in_channels=64,out_channels=32,stride=2,padding=1,kernel_size=3,bias=False)\n",
    "        self.bn2 = nn.BatchNorm2d(32)\n",
    "        self.deconv3 = nn.ConvTranspose2d(in_channels=32,out_channels=1,stride=2,padding=1,kernel_size=3,bias=False)\n",
    "        self.relu = nn.ReLU(inplace=True)\n",
    "        self.tanh = nn.Tanh()\n",
    "        self.sigmoid = nn.Sigmoid()\n",
    "        self.fc1 = nn.Linear(emb_size,hidden_size)\n",
    "        self.fc2 = nn.Linear(hidden_size,64*16*16)\n",
    "        # Initialize weights\n",
    "        self._init_weights()\n",
    "\n",
    "    def forward(self, input):\n",
    "        output = self.fc1(input)\n",
    "        output = self.fc2(output)\n",
    "        output = output.view(output.size(0),64,16,16)\n",
    "        output = self.deconv1(output)\n",
    "        output = self.bn1(output)\n",
    "        output = self.relu(output)\n",
    "\n",
    "        output = self.deconv2(output)\n",
    "        output = self.bn2(output)\n",
    "        output = self.relu(output)\n",
    "\n",
    "        output = self.deconv3(output)\n",
    "        #output = self.tanh(output)\n",
    "        #trying to use a BCE loss and hence returning the outputs using a sigmoid\n",
    "        output = self.sigmoid(output)\n",
    "        return output.squeeze()\n",
    "\n",
    "    def _init_weights(self):\n",
    "        for m in self.modules():\n",
    "            classname = m.__class__.__name__\n",
    "            if classname.find('Conv') != -1:\n",
    "                m.weight.data.normal_(0.0, 0.02)\n",
    "            elif classname.find('BatchNorm') != -1:\n",
    "                m.weight.data.normal_(1.0, 0.02)\n",
    "                m.bias.data.fill_(0)\n"
   ]
  },
  {
   "cell_type": "code",
   "execution_count": 53,
   "metadata": {},
   "outputs": [],
   "source": [
    "train_decoder_dataset = DecoderDataset(train_embeddings_bars,train_videos_bars)\n",
    "train_decoder_dataloader = DataLoader(train_decoder_dataset, batch_size=64, shuffle=False)\n",
    "val_decoder_dataset = DecoderDataset(val_embeddings_bars,val_videos_bars)\n",
    "val_decoder_dataloader = DataLoader(val_decoder_dataset, batch_size=64, shuffle=False)"
   ]
  },
  {
   "cell_type": "code",
   "execution_count": null,
   "metadata": {},
   "outputs": [],
   "source": []
  },
  {
   "cell_type": "code",
   "execution_count": 39,
   "metadata": {},
   "outputs": [],
   "source": [
    "def train(decoder_network, dataloader, criterion, optimizer, device, epoch):\n",
    "    loss_train = 0.\n",
    "    for batch_idx, (x_embed, target_img) in enumerate(dataloader):\n",
    "        x_embed, target_img = x_embed.to(device).float(), target_img.to(device).float()\n",
    "        decoder_network.train()\n",
    "\n",
    "        optimizer.zero_grad()\n",
    "\n",
    "        gen_img = decoder_network(x_embed)\n",
    "        #assert (gen_img.view(-1,121*121) >= 0. & gen_img.view(-1,121*121) <= 1.).all()\n",
    "        #assert (target_img.view(-1,121*121) >= 0. & target_img.view(-1,121*121) <= 1.).all()\n",
    "\n",
    "\n",
    "        loss = criterion(gen_img.view(-1,121*121), target_img.view(-1,target_img.size(1)*target_img.size(1)))\n",
    "        loss.backward()\n",
    "        optimizer.step()\n",
    "        #print(len(dataloader.dataset))\n",
    "        # Accurately compute loss, because of different batch size\n",
    "        loss_train += loss.item() * len(x_embed) / len(dataloader.dataset)\n",
    "\n",
    "        if (batch_idx+1) % (len(dataloader.dataset)//(20*target_img.shape[0])) == 0:\n",
    "            print('Train Epoch: {} [{}/{} ({:.0f}%)]\\tLoss: {:.6f}'.format(\n",
    "                epoch, (batch_idx+1) * target_img.shape[0], len(dataloader.dataset),\n",
    "                100. * (batch_idx+1) / len(dataloader), loss.item()))\n",
    "\n",
    "    optimizer.zero_grad()\n",
    "    return loss_train,gen_img.detach().cpu().numpy()\n",
    "\n",
    "def test(decoder_network, dataloader, criterion, device):\n",
    "    decoder_network.eval()\n",
    "    loss_test = 0.\n",
    "    with torch.no_grad():\n",
    "        for batch_idx, (x_embed, target_img) in enumerate(dataloader):\n",
    "            x_embed, target_img = x_embed.to(device).float(), target_img.to(device).float()\n",
    "            gen_img = decoder_network(x_embed)\n",
    "            loss = criterion(gen_img.view(-1,gen_img.size(1)*gen_img.size(1)), target_img.view(-1,target_img.size(1)*target_img.size(1)))\n",
    "\n",
    "            # Accurately compute loss, because of different batch size\n",
    "            loss_test += loss.item() / len(dataloader.dataset)\n",
    "            \n",
    "    return loss_test,gen_img.detach().cpu().numpy()\n"
   ]
  },
  {
   "cell_type": "code",
   "execution_count": 40,
   "metadata": {},
   "outputs": [],
   "source": [
    "DEVICE = 'cuda:0' if torch.cuda.is_available() else 'cpu'"
   ]
  },
  {
   "cell_type": "code",
   "execution_count": 41,
   "metadata": {},
   "outputs": [],
   "source": [
    "#DEVICE = 'cpu'"
   ]
  },
  {
   "cell_type": "code",
   "execution_count": 43,
   "metadata": {},
   "outputs": [],
   "source": [
    "N_EPOCHS = 700"
   ]
  },
  {
   "cell_type": "code",
   "execution_count": 44,
   "metadata": {},
   "outputs": [
    {
     "data": {
      "text/plain": [
       "2774"
      ]
     },
     "execution_count": 44,
     "metadata": {},
     "output_type": "execute_result"
    }
   ],
   "source": [
    "len(train_embeddings_bars)"
   ]
  },
  {
   "cell_type": "code",
   "execution_count": null,
   "metadata": {
    "scrolled": false
   },
   "outputs": [],
   "source": [
    "criterion = nn.BCELoss(reduction='sum')\n",
    "criterion_test = nn.BCELoss(reduction='sum')\n",
    "decoder_network = DecoderNetwork(emb_size=train_embeddings_bars.shape[1],hidden_size=1024).to(DEVICE)\n",
    "optimizer = optim.Adam(decoder_network.parameters(), lr=LR)\n",
    "\n",
    "for epoch in range(N_EPOCHS):\n",
    "    train_loss,gen_img_temp_train = train(decoder_network,train_decoder_dataloader,criterion,optimizer,DEVICE,epoch)\n",
    "    val_loss,gen_img_temp_val = test(decoder_network,val_decoder_dataloader,criterion_test,DEVICE)\n",
    "    print('TRAIN Epoch: {}\\tAverage loss: {:.4f}'.format(epoch, train_loss))\n",
    "    print('VAL Epoch: {}\\tAverage loss: {:.4f}'.format(epoch, val_loss))\n",
    "\n",
    "\n",
    "    "
   ]
  },
  {
   "cell_type": "code",
   "execution_count": 63,
   "metadata": {},
   "outputs": [
    {
     "data": {
      "text/plain": [
       "(22, 121, 121)"
      ]
     },
     "execution_count": 63,
     "metadata": {},
     "output_type": "execute_result"
    }
   ],
   "source": [
    "gen_img_temp_train.shape"
   ]
  },
  {
   "cell_type": "code",
   "execution_count": 61,
   "metadata": {},
   "outputs": [
    {
     "data": {
      "image/png": "[encoded data removed]",
      "text/plain": [
       "<Figure size 8712x8712 with 22 Axes>"
      ]
     },
     "metadata": {
      "needs_background": "light"
     },
     "output_type": "display_data"
    }
   ],
   "source": [
    "i = 1\n",
    "fig = plt.figure(figsize=(121,121))\n",
    "for image in gen_img_temp_train:\n",
    "    fig.add_subplot(22, 1, i)\n",
    "    plt.imshow(image)\n",
    "    plt.xlim(0, data.shape[-1])\n",
    "    plt.ylim(0, data.shape[-1])\n",
    "    plt.axis('off')\n",
    "    i += 1\n",
    "plt.show()"
   ]
  },
  {
   "cell_type": "code",
   "execution_count": 62,
   "metadata": {},
   "outputs": [
    {
     "data": {
      "image/png": "[encoded data removed]",
      "text/plain": [
       "<Figure size 8712x8712 with 16 Axes>"
      ]
     },
     "metadata": {
      "needs_background": "light"
     },
     "output_type": "display_data"
    }
   ],
   "source": [
    "i = 1\n",
    "fig = plt.figure(figsize=(121,121))\n",
    "for image in gen_img_temp_val:\n",
    "    fig.add_subplot(22, 1, i)\n",
    "    plt.imshow(image)\n",
    "    plt.xlim(0, data.shape[-1])\n",
    "    plt.ylim(0, data.shape[-1])\n",
    "    plt.axis('off')\n",
    "    i += 1\n",
    "plt.show()"
   ]
  },
  {
   "cell_type": "code",
   "execution_count": 64,
   "metadata": {},
   "outputs": [
    {
     "data": {
      "text/plain": [
       "(48, 20, 121, 121)"
      ]
     },
     "execution_count": 64,
     "metadata": {},
     "output_type": "execute_result"
    }
   ],
   "source": [
    "val_data.shape"
   ]
  },
  {
   "cell_type": "code",
   "execution_count": 67,
   "metadata": {},
   "outputs": [
    {
     "data": {
      "text/plain": [
       "(912, 1024)"
      ]
     },
     "execution_count": 67,
     "metadata": {},
     "output_type": "execute_result"
    }
   ],
   "source": [
    "val_embeddings_bars.shape"
   ]
  },
  {
   "cell_type": "code",
   "execution_count": 70,
   "metadata": {},
   "outputs": [],
   "source": [
    "val_embeddings_bars_seq = val_embeddings_bars.reshape(-1,19,1024)"
   ]
  },
  {
   "cell_type": "code",
   "execution_count": 71,
   "metadata": {},
   "outputs": [
    {
     "data": {
      "text/plain": [
       "(48, 19, 1024)"
      ]
     },
     "execution_count": 71,
     "metadata": {},
     "output_type": "execute_result"
    }
   ],
   "source": [
    "val_embeddings_bars_seq.shape"
   ]
  },
  {
   "cell_type": "code",
   "execution_count": 73,
   "metadata": {},
   "outputs": [],
   "source": [
    "val_videos_bars_seq = val_videos_bars.reshape(-1,19,121,121)"
   ]
  },
  {
   "cell_type": "code",
   "execution_count": 74,
   "metadata": {},
   "outputs": [
    {
     "data": {
      "text/plain": [
       "(48, 19, 121, 121)"
      ]
     },
     "execution_count": 74,
     "metadata": {},
     "output_type": "execute_result"
    }
   ],
   "source": [
    "val_videos_bars_seq.shape"
   ]
  },
  {
   "cell_type": "code",
   "execution_count": null,
   "metadata": {},
   "outputs": [],
   "source": [
    "gen_inter_imgs = np.array([])\n",
    "count_frames = val_videos_bars_seq.shape[1]\n",
    "embed_first_frame = val_embeddings_bars_seq[0,0,:]\n",
    "embed_last_frame = val_embeddings_bars_seq[0,-1,:]\n",
    "for i in range(count_frames):\n",
    "    lambda_curr = i/(count_frames-1)\n",
    "    embed_current_frame = (1-lambda_curr)*embed_first_frame + lambda_curr*embed_last_frame\n",
    "    embed_current_frame = torch.from_numpy(embed_current_frame[np.newaxis,:]).to(DEVICE).float()\n",
    "    gen_current_img = decoder_network(embed_current_frame)\n",
    "    gen_inter_imgs = np.vstack((gen_inter_imgs,gen_current_img.detach().cpu().numpy()[np.newaxis,:])) if gen_inter_imgs.size is not 0 else gen_current_img.detach().cpu().numpy()[np.newaxis,:]\n"
   ]
  },
  {
   "cell_type": "code",
   "execution_count": 90,
   "metadata": {},
   "outputs": [
    {
     "data": {
      "text/plain": [
       "(19, 121, 121)"
      ]
     },
     "execution_count": 90,
     "metadata": {},
     "output_type": "execute_result"
    }
   ],
   "source": [
    "gen_inter_imgs.shape"
   ]
  },
  {
   "cell_type": "code",
   "execution_count": 91,
   "metadata": {},
   "outputs": [
    {
     "data": {
      "image/png": "[encoded data removed]",
      "text/plain": [
       "<Figure size 8712x8712 with 19 Axes>"
      ]
     },
     "metadata": {
      "needs_background": "light"
     },
     "output_type": "display_data"
    }
   ],
   "source": [
    "i = 1\n",
    "fig = plt.figure(figsize=(121,121))\n",
    "for image in gen_inter_imgs:\n",
    "    fig.add_subplot(19, 1, i)\n",
    "    plt.imshow(image)\n",
    "    plt.xlim(0, data.shape[-1])\n",
    "    plt.ylim(0, data.shape[-1])\n",
    "    plt.axis('off')\n",
    "    i += 1\n",
    "plt.show()"
   ]
  },
  {
   "cell_type": "code",
   "execution_count": 93,
   "metadata": {},
   "outputs": [
    {
     "data": {
      "text/plain": [
       "(48, 19, 121, 121)"
      ]
     },
     "execution_count": 93,
     "metadata": {},
     "output_type": "execute_result"
    }
   ],
   "source": [
    "val_videos_bars_seq.shape"
   ]
  },
  {
   "cell_type": "code",
   "execution_count": 94,
   "metadata": {},
   "outputs": [
    {
     "data": {
      "image/png": "[encoded data removed]",
      "text/plain": [
       "<Figure size 8712x8712 with 19 Axes>"
      ]
     },
     "metadata": {
      "needs_background": "light"
     },
     "output_type": "display_data"
    }
   ],
   "source": [
    "i=1\n",
    "fig = plt.figure(figsize=(121,121))\n",
    "for image in val_videos_bars_seq[0,:,:,:]:\n",
    "    fig.add_subplot(19, 1, i)\n",
    "    plt.imshow(image)\n",
    "    plt.xlim(0, data.shape[-1])\n",
    "    plt.ylim(0, data.shape[-1])\n",
    "    plt.axis('off')\n",
    "    i += 1\n",
    "plt.show()"
   ]
  },
  {
   "cell_type": "code",
   "execution_count": null,
   "metadata": {},
   "outputs": [],
   "source": []
  }
 ],
 "metadata": {
  "kernelspec": {
   "display_name": "Python [default]",
   "language": "python",
   "name": "python3"
  },
  "language_info": {
   "codemirror_mode": {
    "name": "ipython",
    "version": 3
   },
   "file_extension": ".py",
   "mimetype": "text/x-python",
   "name": "python",
   "nbconvert_exporter": "python",
   "pygments_lexer": "ipython3",
   "version": "3.6.7"
  }
 },
 "nbformat": 4,
 "nbformat_minor": 2
}
